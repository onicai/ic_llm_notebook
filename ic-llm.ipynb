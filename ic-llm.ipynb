{
 "cells": [
  {
   "cell_type": "markdown",
   "metadata": {},
   "source": [
    "# IC_LLM_NOTEBOOK\n",
    "\n",
    "A python notebook to interact with DFINITY's [LLM Canister](https://forum.dfinity.org/t/introducing-the-llm-canister-deploy-ai-agents-with-a-few-lines-of-code/41424)"
   ]
  },
  {
   "cell_type": "markdown",
   "metadata": {},
   "source": [
    "# Setup"
   ]
  },
  {
   "cell_type": "markdown",
   "metadata": {},
   "source": [
    "## Verify we're in the Conda environment"
   ]
  },
  {
   "cell_type": "code",
   "execution_count": null,
   "metadata": {},
   "outputs": [],
   "source": [
    "import sys\n",
    "\n",
    "print(sys.executable)"
   ]
  },
  {
   "cell_type": "markdown",
   "metadata": {},
   "source": [
    "## Import python packages"
   ]
  },
  {
   "cell_type": "code",
   "execution_count": null,
   "metadata": {},
   "outputs": [],
   "source": [
    "import os\n",
    "import sys\n",
    "import time\n",
    "# import json\n",
    "# import base64\n",
    "# import io\n",
    "# import requests\n",
    "import pprint\n",
    "# from pathlib import Path\n",
    "# import subprocess\n",
    "import jupyter_black\n",
    "import textwrap\n",
    "from scripts.llm_canister import call_llm_canister\n",
    "\n",
    "# Activate the jupyter_black extension, which reformats code cells with black\n",
    "# https://github.com/n8henrie/jupyter-black\n",
    "jupyter_black.load()"
   ]
  },
  {
   "cell_type": "code",
   "execution_count": null,
   "metadata": {},
   "outputs": [],
   "source": [
    "MODEL = \"llama3.1:8b\"\n",
    "\n",
    "system_prompt = \"You are a helpful assistant.\"\n",
    "user_prompt = \"How big is the sun?\"\n",
    "messages = []\n",
    "messages = call_llm_canister(\n",
    "    model=MODEL,\n",
    "    system_prompt=system_prompt,\n",
    "    user_prompt=user_prompt,\n",
    "    messages=messages,\n",
    "    debug_verbose=0,\n",
    ")\n",
    "\n",
    "# Print the whole conversation\n",
    "print(\"---------------------------------------------------------\")\n",
    "print(\"This is the full conversation with the LLM Canister:\")\n",
    "pprint.pprint(messages)"
   ]
  },
  {
   "cell_type": "markdown",
   "metadata": {},
   "source": []
  }
 ],
 "metadata": {
  "kernelspec": {
   "display_name": "ic-llm",
   "language": "python",
   "name": "python3"
  },
  "language_info": {
   "codemirror_mode": {
    "name": "ipython",
    "version": 3
   },
   "file_extension": ".py",
   "mimetype": "text/x-python",
   "name": "python",
   "nbconvert_exporter": "python",
   "pygments_lexer": "ipython3",
   "version": "3.11.11"
  }
 },
 "nbformat": 4,
 "nbformat_minor": 2
}
