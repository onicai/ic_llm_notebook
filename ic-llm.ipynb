{
 "cells": [
  {
   "cell_type": "markdown",
   "metadata": {},
   "source": [
    "# IC_LLM_NOTEBOOK\n",
    "\n",
    "A python notebook to interact with DFINITY's [LLM Canister](https://forum.dfinity.org/t/introducing-the-llm-canister-deploy-ai-agents-with-a-few-lines-of-code/41424)"
   ]
  },
  {
   "cell_type": "markdown",
   "metadata": {},
   "source": [
    "# Setup"
   ]
  },
  {
   "cell_type": "markdown",
   "metadata": {},
   "source": [
    "## Verify we're in the Conda environment"
   ]
  },
  {
   "cell_type": "code",
   "execution_count": 4,
   "metadata": {},
   "outputs": [
    {
     "name": "stdout",
     "output_type": "stream",
     "text": [
      "/opt/miniconda3/envs/ic-llm/bin/python\n"
     ]
    }
   ],
   "source": [
    "import sys\n",
    "\n",
    "print(sys.executable)"
   ]
  },
  {
   "cell_type": "markdown",
   "metadata": {},
   "source": [
    "## Import python packages"
   ]
  },
  {
   "cell_type": "code",
   "execution_count": 5,
   "metadata": {},
   "outputs": [],
   "source": [
    "import os\n",
    "import sys\n",
    "import time\n",
    "import pprint\n",
    "import jupyter_black\n",
    "import textwrap\n",
    "from scripts.llm_canister import call_llm_canister\n",
    "\n",
    "# Activate the jupyter_black extension, which reformats code cells with black\n",
    "# https://github.com/n8henrie/jupyter-black\n",
    "jupyter_black.load()"
   ]
  },
  {
   "cell_type": "code",
   "execution_count": 6,
   "metadata": {},
   "outputs": [
    {
     "name": "stdout",
     "output_type": "stream",
     "text": [
      "---------------------------------------------------------\n",
      "This is the full conversation with the LLM Canister:\n",
      "[{'content': 'You are a helpful assistant.', 'role': {'system': None}},\n",
      " {'content': 'How big is the sun?', 'role': {'user': None}},\n",
      " {'content': 'The Sun is the star at the center of our solar system. Its '\n",
      "             'massive size is difficult to comprehend, but here are some key '\n",
      "             'statistics to put its enormity into perspective:\\n'\n",
      "             '\\n'\n",
      "             '1. **Diameter**: The Sun is approximately 1,392,684 kilometers '\n",
      "             '(865,374 miles) in diameter. This is about 109 times larger than '\n",
      "             'the diameter of the Earth.\\n'\n",
      "             '2. **Radius**: The radius of the Sun is about 696,000 kilometers '\n",
      "             '(432,000 miles).\\n'\n",
      "             '3. **Surface area**: The surface area of the Sun is '\n",
      "             'approximately 5.10 x 10^18 square kilometers (1.96 x 10^18 '\n",
      "             'square miles), which is about 12.3 million times larger than the '\n",
      "             'surface area of the Earth.\\n'\n",
      "             '4. **Volume**: The volume of the Sun is about 1.41 x 10^18 cubic '\n",
      "             'kilometers (3.36 x 10^17 cubic miles).\\n'\n",
      "             '5. **Mass**: The mass of the Sun is approximately',\n",
      "  'role': {'assistant': None}}]\n"
     ]
    }
   ],
   "source": [
    "MODEL = \"llama3.1:8b\"\n",
    "\n",
    "system_prompt = \"You are a helpful assistant.\"\n",
    "user_prompt = \"How big is the sun?\"\n",
    "messages = []\n",
    "messages = call_llm_canister(\n",
    "    model=MODEL,\n",
    "    system_prompt=system_prompt,\n",
    "    user_prompt=user_prompt,\n",
    "    messages=messages,\n",
    "    debug_verbose=0,\n",
    ")\n",
    "\n",
    "# Print the whole conversation\n",
    "print(\"---------------------------------------------------------\")\n",
    "print(\"This is the full conversation with the LLM Canister:\")\n",
    "pprint.pprint(messages)"
   ]
  },
  {
   "cell_type": "markdown",
   "metadata": {},
   "source": []
  }
 ],
 "metadata": {
  "kernelspec": {
   "display_name": "ic-llm",
   "language": "python",
   "name": "python3"
  },
  "language_info": {
   "codemirror_mode": {
    "name": "ipython",
    "version": 3
   },
   "file_extension": ".py",
   "mimetype": "text/x-python",
   "name": "python",
   "nbconvert_exporter": "python",
   "pygments_lexer": "ipython3",
   "version": "3.11.11"
  }
 },
 "nbformat": 4,
 "nbformat_minor": 2
}
